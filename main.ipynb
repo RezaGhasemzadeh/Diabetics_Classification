{
 "cells": [
  {
   "cell_type": "code",
   "execution_count": 34,
   "id": "d4060294",
   "metadata": {},
   "outputs": [],
   "source": [
    "import pandas as pd\n",
    "import numpy as np\n",
    "from sklearn.model_selection import train_test_split\n",
    "from sklearn.neighbors import KNeighborsClassifier\n",
    "from sklearn.metrics import accuracy_score\n",
    "from sklearn.preprocessing import StandardScaler"
   ]
  },
  {
   "cell_type": "code",
   "execution_count": 39,
   "id": "e9d34681",
   "metadata": {},
   "outputs": [
    {
     "name": "stdout",
     "output_type": "stream",
     "text": [
      "Accuracy: 0.7142857142857143\n"
     ]
    }
   ],
   "source": [
    "dataset = pd.read_csv(\"diabetes.csv\")\n",
    "columns_with_missing_values = ['Insulin', 'SkinThickness', 'Glucose', 'BloodPressure', 'BMI']\n",
    "for column in columns_with_missing_values:\n",
    "    dataset[column] = dataset[column].replace(0, np.nan)\n",
    "    mean = int(dataset[column].mean(skipna=True))\n",
    "    dataset[column] = dataset[column].replace(np.nan, mean)\n",
    "\n",
    "data = dataset.iloc[:, 0:8]\n",
    "label = dataset.iloc[:, 8]\n",
    "train_features, test_features, train_labels, test_labels = train_test_split(data, label, test_size=0.2, random_state=10)\n",
    "sc = StandardScaler()\n",
    "sc.fit(train_features)\n",
    "train_features = sc.transform(train_features)\n",
    "test_features = sc.transform(test_features)\n",
    "classifier = KNeighborsClassifier(n_neighbors=11, metric=\"euclidean\")\n",
    "classifier.fit(train_features, train_labels)\n",
    "label_predicted = classifier.predict(test_features)\n",
    "model_accuracy = accuracy_score(test_labels, label_predicted)\n",
    "print(f\"Accuracy: {model_accuracy}\")"
   ]
  },
  {
   "cell_type": "code",
   "execution_count": null,
   "id": "d9930980",
   "metadata": {},
   "outputs": [],
   "source": []
  },
  {
   "cell_type": "code",
   "execution_count": null,
   "id": "625803de",
   "metadata": {},
   "outputs": [],
   "source": []
  }
 ],
 "metadata": {
  "kernelspec": {
   "display_name": "Python 3 (ipykernel)",
   "language": "python",
   "name": "python3"
  },
  "language_info": {
   "codemirror_mode": {
    "name": "ipython",
    "version": 3
   },
   "file_extension": ".py",
   "mimetype": "text/x-python",
   "name": "python",
   "nbconvert_exporter": "python",
   "pygments_lexer": "ipython3",
   "version": "3.10.9"
  }
 },
 "nbformat": 4,
 "nbformat_minor": 5
}
